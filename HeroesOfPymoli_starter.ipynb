{
 "cells": [
  {
   "cell_type": "markdown",
   "metadata": {},
   "source": [
    "### Note\n",
    "* Instructions have been included for each segment. You do not have to follow them exactly, but they are included to help you think through the steps."
   ]
  },
  {
   "cell_type": "code",
   "execution_count": null,
   "metadata": {},
   "outputs": [],
   "source": [
    "# Dependencies and Setup\n",
    "import pandas as pd\n",
    "\n",
    "# File to Load (Remember to Change These)\n",
    "file_to_load = \"purchase_data.csv\"\n",
    "\n",
    "# Read Purchasing File and store into Pandas data frame\n",
    "purchase_data_df = pd.read_csv(file_to_load)\n",
    "purchase_data_df.head()"
   ]
  },
  {
   "cell_type": "markdown",
   "metadata": {},
   "source": [
    "## Player Count"
   ]
  },
  {
   "cell_type": "markdown",
   "metadata": {},
   "source": [
    "* Display the total number of players\n"
   ]
  },
  {
   "cell_type": "code",
   "execution_count": null,
   "metadata": {},
   "outputs": [],
   "source": [
    "Total_players = purchase_data_df[\"SN\"].nunique()\n",
    "\n",
    "Total_players"
   ]
  },
  {
   "cell_type": "markdown",
   "metadata": {},
   "source": [
    "## Purchasing Analysis (Total)"
   ]
  },
  {
   "cell_type": "markdown",
   "metadata": {},
   "source": [
    "* Run basic calculations to obtain number of unique items, average price, etc.\n",
    "\n",
    "\n",
    "* Create a summary data frame to hold the results\n",
    "\n",
    "\n",
    "* Optional: give the displayed data cleaner formatting\n",
    "\n",
    "\n",
    "* Display the summary data frame\n"
   ]
  },
  {
   "cell_type": "code",
   "execution_count": null,
   "metadata": {
    "scrolled": true
   },
   "outputs": [],
   "source": [
    "unique_items = purchase_data_df[\"Item ID\"].nunique()\n",
    "ave_price = purchase_data_df[\"Price\"].mean()\n",
    "num_purchases = purchase_data_df[\"Purchase ID\"].max()\n",
    "total_rev = purchase_data_df[\"Price\"].sum()\n",
    "\n",
    "summary_table = pd.DataFrame({\"Number of Unique Values\": [unique_items],\n",
    "                                    \"Average Price\": [ave_price], \n",
    "                                    \"Number of purchases\": [num_purchases],\n",
    "                                    \"Total Revenue\": [total_rev]})\n",
    "index = [0]\n",
    "\n",
    "summary_table.head()"
   ]
  },
  {
   "cell_type": "markdown",
   "metadata": {},
   "source": [
    "## Gender Demographics"
   ]
  },
  {
   "cell_type": "markdown",
   "metadata": {},
   "source": [
    "* Percentage and Count of Male Players\n",
    "\n",
    "\n",
    "* Percentage and Count of Female Players\n",
    "\n",
    "\n",
    "* Percentage and Count of Other / Non-Disclosed\n",
    "\n",
    "\n"
   ]
  },
  {
   "cell_type": "code",
   "execution_count": null,
   "metadata": {},
   "outputs": [],
   "source": [
    "columns = [\"Purchase ID\", \"SN\", \"Age\", \"Gender\", \"Item ID\", \"Item Name\", \"Price\"] \n",
    "\n",
    "#purchase_data_df[columns] = purchase_data_df[columns].astype('category')\n",
    "\n",
    "all_players = purchase_data_df[\"Gender\"].value_counts()\n",
    "all_players\n",
    "num_male_players = 652\n",
    "num_female_players = 113\n",
    "num_other_players = 15\n",
    "sum_players = num_male_players + num_female_players + num_other_players\n",
    "\n",
    "male_players_pt = num_male_players / sum_players\n",
    "female_players_pt = num_female_players / sum_players\n",
    "other_players_pt = num_other_players / sum_players\n",
    "\n",
    "print(num_male_players)\n",
    "print(num_female_players)\n",
    "print(num_other_players)\n",
    "\n",
    "format_percent_male = '{:.2f}'.format(male_players_pt)\n",
    "format_percent_female = '{:.2f}'.format(female_players_pt)\n",
    "format_percent_other = '{:.2f}'.format(other_players_pt)\n",
    "print(format_percent_male)\n",
    "print(format_percent_female)\n",
    "print(format_percent_other)\n",
    "\n",
    "summary_table2 = pd.DataFrame({\"Count of Male Players\": [num_male_players],\n",
    "                                   \"Percent of Male players\": [male_players_pt],\n",
    "                                    \"Count of Female Players\": [num_female_players],\n",
    "                                    \"Percent of Female players\": [female_players_pt],\n",
    "                                    \"Count of Other Players\": [num_other_players],\n",
    "                                    \"Percenf of Other players\": [other_players_pt]})\n",
    "\n",
    "summary_table2\n",
    "\n"
   ]
  },
  {
   "cell_type": "markdown",
   "metadata": {},
   "source": [
    "\n",
    "## Purchasing Analysis (Gender)"
   ]
  },
  {
   "cell_type": "markdown",
   "metadata": {},
   "source": [
    "* Run basic calculations to obtain purchase count, avg. purchase price, avg. purchase total per person etc. by gender\n",
    "\n",
    "\n",
    "\n",
    "\n",
    "* Create a summary data frame to hold the results\n",
    "\n",
    "\n",
    "* Optional: give the displayed data cleaner formatting\n",
    "\n",
    "\n",
    "* Display the summary data frame"
   ]
  },
  {
   "cell_type": "code",
   "execution_count": null,
   "metadata": {},
   "outputs": [],
   "source": [
    "gender_group = purchase_data_df.groupby(\"Gender\")\n",
    "\n",
    "\n",
    "#skip all this code, got help from Mark and doing it differently now\n",
    "\n",
    "# purchase_count = (gender_group[\"Purchase ID\"].nunique())\n",
    "# unique_purchase_count = (gender_group[\"SN\"].nunique())\n",
    "# ave_purchase_price = (gender_group[\"Price\"].mean())\n",
    "# total_purchase = (gender_group[\"Price\"].sum())\n",
    "\n",
    "# total_unique_purchases = (gender_group[\"SN\"].nunique())\n",
    "\n",
    "\n",
    "# ave_total_purchase_perperson = list(total_purchase[\"Price\"] / unique_purchase_count[\"SN\"])\n",
    "# gender_group_total = list(gender_group_sum[\"Price\"] / gender_group_count[\"SN\"])\n",
    "# ave_total_purchase_perperson\n",
    "\n",
    "# merge_table1 = pd.merge(purchase_count, ave_purchase_price, on=\"Gender\")\n",
    "\n",
    "\n",
    "# merge_table2 = pd.merge(merge_table1, total_purchase, on=\"Gender\")\n",
    "\n",
    "# merge_table3 = pd.merge(merge_table2, ave_total_purchase_perperson, on=\"Gender\")\n",
    "\n",
    "# merge_table4 = pd.merge(merge_table3, ave_total_purchase_perperson, on=\"Gender\")\n",
    "\n",
    "\n",
    "# merge_table3 = merge_table3.rename(columns={\"Purchase ID\":\"Purchase Count\", \"Price_x\":\"Average Purchase Price\", \"Price_y\":\"Total Purchase Value\", \"SN\":\"Ave Total Purchase per Person\"})\n",
    "\n",
    "# pd.options.display.float_format = '${:,.2f}'.format\n",
    "# merge_table2\n",
    "\n",
    "#Totals\n",
    "# gender_group_sum = purchase_data_df.groupby(\"Gender\").sum()[[\"Price\"]]\n",
    "# gender_group_count = purchase_data_df.groupby(\"Gender\").nunique()[[\"SN\"]]\n",
    "# gender_group_mean = purchase_data_df.groupby(\"Gender\").mean()[[\"Price\"]]\n",
    "# gender_group_total = list(gender_group_sum[\"Price\"] / gender_group_count[\"SN\"])\n",
    "\n",
    "\n",
    "# summary_df = pd.DataFrame({\n",
    "#     \"Purchase Count\": gender_group[\"Purchase ID\"],\n",
    "#     \"Average Purchase Price\": gender_group[\"Price\"],\n",
    "#     \"Total Purchase Value\": gender_group[\"Price\"],\n",
    "#     \"Average Total Purchase Per Person\": gender_group_total\n",
    "# })\n",
    "# new_df = pd.DataFrame({\n",
    "#     \"Purchase Count\" : gender_group_sum[\"Price\"],\n",
    "#     \"Average Purchase Price\" : gender_group_count[\"SN\"],\n",
    "#     \"Total Purchase Value\": gender_group_mean[\"Price\"],\n",
    "#     \"Avg Total Purchase per Person\" : ave_total_purchase_perperson\n",
    "# })\n",
    "\n",
    "# summary_df.head()\n",
    "\n",
    "\n"
   ]
  },
  {
   "cell_type": "code",
   "execution_count": null,
   "metadata": {
    "scrolled": true
   },
   "outputs": [],
   "source": [
    "#Totals\n",
    "gender_group_sum = purchase_data_df.groupby(\"Gender\").sum()[[\"Price\"]]\n",
    "gender_group_count = purchase_data_df.groupby(\"Gender\").nunique()[[\"SN\"]]\n",
    "gender_group_mean = purchase_data_df.groupby(\"Gender\").mean()[[\"Price\"]]\n",
    "gender_group_total = list(gender_group_sum[\"Price\"] / gender_group_count[\"SN\"])\n",
    "\n",
    "new_df = pd.DataFrame({\n",
    "    \"Total Purchase Value\" : gender_group_sum[\"Price\"],\n",
    "    \"Purchase count\" : gender_group_count[\"SN\"],\n",
    "    \"Average Purchase Price\": gender_group_mean[\"Price\"],\n",
    "    \"Average Total Purchase per Person\" : gender_group_total\n",
    "})\n",
    "\n",
    "new_df.head()"
   ]
  },
  {
   "cell_type": "code",
   "execution_count": null,
   "metadata": {},
   "outputs": [],
   "source": []
  },
  {
   "cell_type": "code",
   "execution_count": null,
   "metadata": {},
   "outputs": [],
   "source": []
  },
  {
   "cell_type": "code",
   "execution_count": null,
   "metadata": {},
   "outputs": [],
   "source": []
  },
  {
   "cell_type": "code",
   "execution_count": null,
   "metadata": {},
   "outputs": [],
   "source": []
  },
  {
   "cell_type": "markdown",
   "metadata": {},
   "source": [
    "## Age Demographics"
   ]
  },
  {
   "cell_type": "markdown",
   "metadata": {},
   "source": [
    "* Establish bins for ages\n",
    "\n",
    "\n",
    "* Categorize the existing players using the age bins. Hint: use pd.cut()\n",
    "\n",
    "\n",
    "* Calculate the numbers and percentages by age group\n",
    "\n",
    "\n",
    "* Create a summary data frame to hold the results\n",
    "\n",
    "\n",
    "* Optional: round the percentage column to two decimal points\n",
    "\n",
    "\n",
    "* Display Age Demographics Table\n"
   ]
  },
  {
   "cell_type": "code",
   "execution_count": null,
   "metadata": {},
   "outputs": [],
   "source": [
    "# Create bins in which to place values based upon SN ages\n",
    "bins = [-999999, 10, 15, 20, 25, 30, 39, 999999]\n",
    "       \n",
    "\n",
    "# Create labels for these bins\n",
    "group_labels = [\"<10\", \"11-15\", \"16-20\", \"21-25\", \"26-30\", \"31-40\", \">40\"]"
   ]
  },
  {
   "cell_type": "code",
   "execution_count": null,
   "metadata": {},
   "outputs": [],
   "source": [
    "player_ages = pd.cut(purchase_data_df[\"Age\"], bins, labels=group_labels).head()\n",
    "player_ages"
   ]
  },
  {
   "cell_type": "code",
   "execution_count": null,
   "metadata": {},
   "outputs": [],
   "source": [
    "purchase_data_df[\"Bins\"] = pd.cut(purchase_data_df[\"Age\"], bins, labels=group_labels)\n",
    "# purchase_data_df.head()"
   ]
  },
  {
   "cell_type": "code",
   "execution_count": null,
   "metadata": {},
   "outputs": [],
   "source": [
    "bin_group = purchase_data_df.groupby(\"Bins\") #use value counts instead of groupby?\n",
    "# total_age_count = pd.DataFrame(bin_group[\"Age\"].count())\n",
    "\n",
    "# percentage_players = Total_players / total_age_count\n",
    "# merge_ages = pd.merge(total_age_count, percentage_players, on=\"Age Bin\") #use list function like we did for \n",
    "# merge_ages"
   ]
  },
  {
   "cell_type": "code",
   "execution_count": null,
   "metadata": {},
   "outputs": [],
   "source": [
    "#add data to bins\n",
    "# player_ages[\"Ages\"] = pd.cut(Total_players[\"Age\"], bins, labels=group_names)\n",
    "\n",
    "# Calculate Percentages by Age Group\n",
    "ages_totals = purchase_data_df[\"Age\"].value_counts()\n",
    "age_percents = ages_totals / Total_players * 100\n",
    "age_bins_percent = pd.DataFrame({\"Total Count\": ages_totals, \"Percentage of Players\": age_percents})\n",
    "\n",
    "# Minor Data Munging\n",
    "# age_demographics = age_demographics.round(2)\n",
    "\n",
    "# Display Age Demographics Table\n",
    "age_bins_percent.head()\n"
   ]
  },
  {
   "cell_type": "code",
   "execution_count": null,
   "metadata": {},
   "outputs": [],
   "source": []
  },
  {
   "cell_type": "code",
   "execution_count": null,
   "metadata": {},
   "outputs": [],
   "source": [
    "\n"
   ]
  },
  {
   "cell_type": "code",
   "execution_count": null,
   "metadata": {},
   "outputs": [],
   "source": []
  },
  {
   "cell_type": "code",
   "execution_count": null,
   "metadata": {},
   "outputs": [],
   "source": []
  },
  {
   "cell_type": "markdown",
   "metadata": {},
   "source": [
    "## Purchasing Analysis (Age)"
   ]
  },
  {
   "cell_type": "markdown",
   "metadata": {},
   "source": [
    "* Bin the purchase_data data frame by age\n",
    "\n",
    "\n",
    "* Run basic calculations to obtain purchase count, avg. purchase price, avg. purchase total per person etc. in the table below\n",
    "\n",
    "\n",
    "* Create a summary data frame to hold the results\n",
    "\n",
    "\n",
    "* Optional: give the displayed data cleaner formatting\n",
    "\n",
    "\n",
    "* Display the summary data frame"
   ]
  },
  {
   "cell_type": "code",
   "execution_count": null,
   "metadata": {},
   "outputs": [],
   "source": [
    "#bin data\n",
    "purchase_data_df[\"Age Ranges\"] = pd.cut(purchase_data_df[\"Age\"], bins, labels=group_labels)\n",
    "ages_purchase_total = purchase_data_df.groupby([\"Age\"]).sum()[\"Price\"]\n",
    "ages_average = purchase_data_df.groupby([\"Age Ranges\"]).mean()[\"Price\"]\n",
    "ages_counts = purchase_data_df.groupby([\"Age Ranges\"]).count()[\"Price\"]\n",
    "new_total = ages_purchase_total / age_bins_percent[\"Total Count\"]\n",
    "\n",
    "#make dataframe\n",
    "age_df = pd.DataFrame({\"Purchase Count\": ages_counts,\"Average Purchase Price\": ages_average, \"Total Purchase Value\": ages_purchase_total, \"Average Total Purchase per Person\": new_total})\n",
    "age_df"
   ]
  },
  {
   "cell_type": "markdown",
   "metadata": {},
   "source": [
    "## Top Spenders"
   ]
  },
  {
   "cell_type": "markdown",
   "metadata": {},
   "source": [
    "* Run basic calculations to obtain the results in the table below\n",
    "\n",
    "\n",
    "* Create a summary data frame to hold the results\n",
    "\n",
    "\n",
    "* Sort the total purchase value column in descending order\n",
    "\n",
    "\n",
    "* Optional: give the displayed data cleaner formatting\n",
    "\n",
    "\n",
    "* Display a preview of the summary data frame\n",
    "\n"
   ]
  },
  {
   "cell_type": "code",
   "execution_count": null,
   "metadata": {},
   "outputs": [],
   "source": [
    "all_users_total = purchase_data_df.groupby([\"SN\"]).sum()\n",
    "all_users_ave = purchase_data_df.groupby([\"SN\"]).mean()\n",
    "all_users_count = purchase_data_df.groupby([\"SN\"]).count()\n",
    "\n",
    "#make into df\n",
    "\n",
    "top_spender_df = pd.DataFrame({\"Total Purchase Value\": all_users_total, \"Ave Purchase Price\": all_users_ave, \"Purchase Count\": all_users_count}, index=[0])\n",
    "\n"
   ]
  },
  {
   "cell_type": "code",
   "execution_count": null,
   "metadata": {},
   "outputs": [],
   "source": [
    "# Basic Calculations\n",
    "user_total = purchase_data.groupby([\"SN\"]).sum()[\"Price\"].rename(\"Total Purchase Value\")\n",
    "user_average = purchase_data.groupby([\"SN\"]).mean()[\"Price\"].rename(\"Average Purchase Price\")\n",
    "user_count = purchase_data.groupby([\"SN\"]).count()[\"Price\"].rename(\"Purchase Count\")\n",
    "\n",
    "# Convert to DataFrame\n",
    "user_data = pd.DataFrame({\"Total Purchase Value\": user_total, \"Average Purchase Price\": user_average, \"Purchase Count\": user_count})\n",
    "\n",
    "# Display Table\n",
    "user_sorted = user_data.sort_values(\"Total Purchase Value\", ascending=False)\n",
    "\n",
    "# Minor Data Munging\n",
    "user_sorted[\"Average Purchase Price\"] = user_sorted[\"Average Purchase Price\"].map(\"${:,.2f}\".format)\n",
    "user_sorted[\"Total Purchase Value\"] = user_sorted[\"Total Purchase Value\"].map(\"${:,.2f}\".format)\n",
    "user_sorted = user_sorted.loc[:,[\"Purchase Count\", \"Average Purchase Price\", \"Total Purchase Value\"]]\n",
    "\n",
    "# Display DataFrame\n",
    "user_sorted.head(5)\n"
   ]
  },
  {
   "cell_type": "markdown",
   "metadata": {},
   "source": [
    "## Most Popular Items"
   ]
  },
  {
   "cell_type": "markdown",
   "metadata": {},
   "source": [
    "* Retrieve the Item ID, Item Name, and Item Price columns\n",
    "\n",
    "\n",
    "* Group by Item ID and Item Name. Perform calculations to obtain purchase count, item price, and total purchase value\n",
    "\n",
    "\n",
    "* Create a summary data frame to hold the results\n",
    "\n",
    "\n",
    "* Sort the purchase count column in descending order\n",
    "\n",
    "\n",
    "* Optional: give the displayed data cleaner formatting\n",
    "\n",
    "\n",
    "* Display a preview of the summary data frame\n",
    "\n"
   ]
  },
  {
   "cell_type": "code",
   "execution_count": null,
   "metadata": {},
   "outputs": [],
   "source": [
    "#retrieve data columns\n",
    "most_pop_data = purchase_data_df.loc[:,[\"Item Id\", \"Item Name\", \"Price\"]]\n",
    "#group them\n",
    "total_items_bought = most_pop_data.groupby([\"Item ID\", \"Item Name\"]).sum()\n",
    "ave_items_bought = most_pop_data.groupby([\"Item ID\", \"Item Name\"]).mean()\n",
    "items_bought_count = most_pop_data.groupby([\"Item ID\", \"Item Name\"]).count()\n",
    "\n",
    "#make df\n",
    "items_bought_df = pd.DataFrame({\"Total Purchase Value\": total_items_bought, \"Item Price\": ave_items_bought, \"Purchase Count\": items_bought_count})\n",
    "\n",
    "items_bough_df"
   ]
  },
  {
   "cell_type": "code",
   "execution_count": null,
   "metadata": {},
   "outputs": [],
   "source": [
    "\n"
   ]
  },
  {
   "cell_type": "markdown",
   "metadata": {},
   "source": [
    "## Most Profitable Items"
   ]
  },
  {
   "cell_type": "markdown",
   "metadata": {},
   "source": [
    "* Sort the above table by total purchase value in descending order\n",
    "\n",
    "\n",
    "* Optional: give the displayed data cleaner formatting\n",
    "\n",
    "\n",
    "* Display a preview of the data frame\n",
    "\n"
   ]
  },
  {
   "cell_type": "code",
   "execution_count": null,
   "metadata": {
    "scrolled": true
   },
   "outputs": [],
   "source": [
    "total_purchase_sorted = items_bought_df.sort_values(\"Total Purchase Value\", ascending=False)"
   ]
  },
  {
   "cell_type": "code",
   "execution_count": null,
   "metadata": {},
   "outputs": [],
   "source": [
    "total_purchase_sorted.head()\n"
   ]
  },
  {
   "cell_type": "code",
   "execution_count": null,
   "metadata": {},
   "outputs": [],
   "source": []
  }
 ],
 "metadata": {
  "anaconda-cloud": {},
  "kernel_info": {
   "name": "python3"
  },
  "kernelspec": {
   "display_name": "Python 3",
   "language": "python",
   "name": "python3"
  },
  "language_info": {
   "codemirror_mode": {
    "name": "ipython",
    "version": 3
   },
   "file_extension": ".py",
   "mimetype": "text/x-python",
   "name": "python",
   "nbconvert_exporter": "python",
   "pygments_lexer": "ipython3",
   "version": "3.7.3"
  },
  "latex_envs": {
   "LaTeX_envs_menu_present": true,
   "autoclose": false,
   "autocomplete": true,
   "bibliofile": "biblio.bib",
   "cite_by": "apalike",
   "current_citInitial": 1,
   "eqLabelWithNumbers": true,
   "eqNumInitial": 1,
   "hotkeys": {
    "equation": "Ctrl-E",
    "itemize": "Ctrl-I"
   },
   "labels_anchors": false,
   "latex_user_defs": false,
   "report_style_numbering": false,
   "user_envs_cfg": false
  },
  "nteract": {
   "version": "0.2.0"
  }
 },
 "nbformat": 4,
 "nbformat_minor": 2
}
